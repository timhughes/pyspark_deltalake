{
 "cells": [
  {
   "cell_type": "code",
   "execution_count": 1,
   "metadata": {},
   "outputs": [],
   "source": [
    "%load_ext autoreload\n",
    "%autoreload 2"
   ]
  },
  {
   "cell_type": "code",
   "execution_count": 42,
   "metadata": {},
   "outputs": [],
   "source": [
    "from pyspark.sql import SparkSession, DataFrame\n",
    "from pyspark import SparkFiles\n",
    "from pyspark.sql.types import DateType"
   ]
  },
  {
   "cell_type": "code",
   "execution_count": 3,
   "metadata": {},
   "outputs": [],
   "source": [
    "spark = SparkSession.builder.appName('DeltaLake')\\\n",
    "    .config(\"spark.jars.packages\", \"io.delta:delta-core_2.11:0.5.0\")\\\n",
    "    .getOrCreate()"
   ]
  },
  {
   "cell_type": "code",
   "execution_count": 4,
   "metadata": {},
   "outputs": [
    {
     "data": {
      "text/html": [
       "\n",
       "            <div>\n",
       "                <p><b>SparkSession - in-memory</b></p>\n",
       "                \n",
       "        <div>\n",
       "            <p><b>SparkContext</b></p>\n",
       "\n",
       "            <p><a href=\"http://krypton.int.timhughes.org:4040\">Spark UI</a></p>\n",
       "\n",
       "            <dl>\n",
       "              <dt>Version</dt>\n",
       "                <dd><code>v2.4.5</code></dd>\n",
       "              <dt>Master</dt>\n",
       "                <dd><code>local[*]</code></dd>\n",
       "              <dt>AppName</dt>\n",
       "                <dd><code>DeltaLake</code></dd>\n",
       "            </dl>\n",
       "        </div>\n",
       "        \n",
       "            </div>\n",
       "        "
      ],
      "text/plain": [
       "<pyspark.sql.session.SparkSession at 0x7fbdc06318d0>"
      ]
     },
     "execution_count": 4,
     "metadata": {},
     "output_type": "execute_result"
    }
   ],
   "source": [
    "spark"
   ]
  },
  {
   "cell_type": "code",
   "execution_count": 24,
   "metadata": {},
   "outputs": [
    {
     "data": {
      "text/plain": [
       "[None, None, None, None, None, None]"
      ]
     },
     "execution_count": 24,
     "metadata": {},
     "output_type": "execute_result"
    }
   ],
   "source": [
    "# Read some CSV data\n",
    "\n",
    "urls = [\n",
    "    'http://prod.publicdata.landregistry.gov.uk.s3-website-eu-west-1.amazonaws.com/pp-2014.csv',\n",
    "    'http://prod.publicdata.landregistry.gov.uk.s3-website-eu-west-1.amazonaws.com/pp-2015.csv',\n",
    "    'http://prod.publicdata.landregistry.gov.uk.s3-website-eu-west-1.amazonaws.com/pp-2016.csv',\n",
    "    'http://prod.publicdata.landregistry.gov.uk.s3-website-eu-west-1.amazonaws.com/pp-2017.csv',\n",
    "    'http://prod.publicdata.landregistry.gov.uk.s3-website-eu-west-1.amazonaws.com/pp-2018.csv',\n",
    "    'http://prod.publicdata.landregistry.gov.uk.s3-website-eu-west-1.amazonaws.com/pp-2019.csv',\n",
    "]\n",
    "for url in urls:\n",
    "    spark.sparkContext.addFile(url)"
   ]
  },
  {
   "cell_type": "code",
   "execution_count": 25,
   "metadata": {},
   "outputs": [],
   "source": [
    "df1 = spark.read.csv(SparkFiles.get(\"pp-20*.csv\"), header=False, inferSchema= True)"
   ]
  },
  {
   "cell_type": "code",
   "execution_count": 26,
   "metadata": {},
   "outputs": [
    {
     "data": {
      "text/plain": [
       "5993157"
      ]
     },
     "execution_count": 26,
     "metadata": {},
     "output_type": "execute_result"
    }
   ],
   "source": [
    "df1.count()"
   ]
  },
  {
   "cell_type": "code",
   "execution_count": 27,
   "metadata": {},
   "outputs": [
    {
     "name": "stdout",
     "output_type": "stream",
     "text": [
      "+--------------------+------+----------------+--------+---+---+---+---+----+-------------------+------------------+---------------+---------------+-------+----+----+\n",
      "|                 _c0|   _c1|             _c2|     _c3|_c4|_c5|_c6|_c7| _c8|                _c9|              _c10|           _c11|           _c12|   _c13|_c14|_c15|\n",
      "+--------------------+------+----------------+--------+---+---+---+---+----+-------------------+------------------+---------------+---------------+-------+----+----+\n",
      "|{7011B109-CFCA-8E...|280000|2018-06-04 00:00| IP4 5ES|  S|  N|  F|  3|null|     RANDWELL CLOSE|              null|        IPSWICH|        IPSWICH|SUFFOLK|   A|   A|\n",
      "|{7011B109-CFCB-8E...|280000|2018-05-29 00:00| IP1 4BS|  T|  N|  F|261|null|       NORWICH ROAD|              null|        IPSWICH|        IPSWICH|SUFFOLK|   A|   A|\n",
      "|{7011B109-CFCC-8E...|170000|2018-04-27 00:00| IP4 4BH|  T|  N|  F| 31|null|        PARADE ROAD|              null|        IPSWICH|        IPSWICH|SUFFOLK|   A|   A|\n",
      "|{7011B109-CFCD-8E...|246000|2018-05-25 00:00| IP1 6NB|  S|  N|  F| 42|null|      ELMCROFT ROAD|              null|        IPSWICH|        IPSWICH|SUFFOLK|   A|   A|\n",
      "|{7011B109-CFCE-8E...|180000|2018-06-08 00:00| IP3 9LZ|  T|  N|  F| 48|null|    WYNTERTON CLOSE|              null|        IPSWICH|        IPSWICH|SUFFOLK|   A|   A|\n",
      "|{7011B109-CFCF-8E...|245000|2018-05-11 00:00| IP1 4BU|  T|  N|  F|235|null|       NORWICH ROAD|              null|        IPSWICH|        IPSWICH|SUFFOLK|   A|   A|\n",
      "|{7011B109-CFD0-8E...|269000|2018-05-15 00:00| IP3 8LN|  S|  N|  F| 18|null|         ROY AVENUE|              null|        IPSWICH|        IPSWICH|SUFFOLK|   A|   A|\n",
      "|{7011B109-CFD1-8E...|270000|2018-03-20 00:00|IP18 6XL|  D|  N|  F| 16|null|KINGFISHER CRESCENT|            REYDON|      SOUTHWOLD|        WAVENEY|SUFFOLK|   A|   A|\n",
      "|{7011B109-CFD2-8E...|350000|2018-04-17 00:00|CO10 8DB|  D|  N|  F|  2|null|        MANOR CLOSE|         CAVENDISH|        SUDBURY| ST EDMUNDSBURY|SUFFOLK|   A|   A|\n",
      "|{7011B109-CFD3-8E...|237000|2018-06-01 00:00|IP12 1LB|  T|  N|  F| 33|null|     FERNHILL CLOSE|              null|     WOODBRIDGE|SUFFOLK COASTAL|SUFFOLK|   A|   A|\n",
      "|{7011B109-CFD4-8E...|139000|2018-06-04 00:00| IP4 5JL|  T|  N|  F| 98|null|      FREEHOLD ROAD|              null|        IPSWICH|        IPSWICH|SUFFOLK|   A|   A|\n",
      "|{7011B109-CFD5-8E...|240000|2018-06-06 00:00| IP3 9BT|  S|  N|  F|305|null|    FELIXSTOWE ROAD|              null|        IPSWICH|        IPSWICH|SUFFOLK|   A|   A|\n",
      "|{7011B109-CFD6-8E...|226000|2018-05-17 00:00|IP33 3HG|  T|  N|  F|  1|null|        GREENE ROAD|              null|BURY ST EDMUNDS| ST EDMUNDSBURY|SUFFOLK|   A|   A|\n",
      "|{7011B109-CFD7-8E...|270000|2018-06-14 00:00| IP3 0QA|  S|  N|  F| 13|null|     DEREHAM AVENUE|              null|        IPSWICH|        IPSWICH|SUFFOLK|   A|   A|\n",
      "|{7011B109-CFD9-8E...|367000|2018-05-22 00:00| IP4 4LQ|  D|  N|  F|103|null|      RUSHMERE ROAD|              null|        IPSWICH|        IPSWICH|SUFFOLK|   A|   A|\n",
      "|{7011B109-CFDA-8E...|245000|2018-05-24 00:00|IP12 4UU|  T|  N|  F|  7|null|    CHURCHILL CLOSE|              null|     WOODBRIDGE|SUFFOLK COASTAL|SUFFOLK|   A|   A|\n",
      "|{7011B109-CFDB-8E...|386227|2018-05-30 00:00|CO10 0XX|  D|  N|  F|  6|null|     HOLBROOK CLOSE|GREAT WALDINGFIELD|        SUDBURY|        BABERGH|SUFFOLK|   A|   A|\n",
      "|{7011B109-CFDC-8E...|175000|2018-05-03 00:00| IP4 5AJ|  T|  N|  F|291|null|CAULDWELL HALL ROAD|              null|        IPSWICH|        IPSWICH|SUFFOLK|   A|   A|\n",
      "|{7011B109-CFDD-8E...|185000|2018-05-11 00:00| IP1 6JG|  S|  N|  F| 72|null|         BYRON ROAD|              null|        IPSWICH|        IPSWICH|SUFFOLK|   A|   A|\n",
      "|{7011B109-CFDE-8E...|250000|2018-05-31 00:00| CB9 9AU|  T|  N|  F|  8|null|       QUEENS COURT|              null|      HAVERHILL| ST EDMUNDSBURY|SUFFOLK|   A|   A|\n",
      "+--------------------+------+----------------+--------+---+---+---+---+----+-------------------+------------------+---------------+---------------+-------+----+----+\n",
      "only showing top 20 rows\n",
      "\n"
     ]
    }
   ],
   "source": [
    "df1.show()"
   ]
  },
  {
   "cell_type": "code",
   "execution_count": 28,
   "metadata": {},
   "outputs": [],
   "source": [
    "# Write the data to DeltaLake format\n",
    "df1.write.format(\"delta\").mode(\"overwrite\").option(\"overwriteSchema\", \"true\").save(\"data/delta_example\")"
   ]
  },
  {
   "cell_type": "code",
   "execution_count": 29,
   "metadata": {},
   "outputs": [],
   "source": [
    "# Read the data back from disk\n",
    "df2 = spark.read.format(\"delta\").load(\"data/delta_example\")"
   ]
  },
  {
   "cell_type": "code",
   "execution_count": 32,
   "metadata": {},
   "outputs": [
    {
     "name": "stdout",
     "output_type": "stream",
     "text": [
      "CPU times: user 0 ns, sys: 43.9 ms, total: 43.9 ms\n",
      "Wall time: 612 ms\n"
     ]
    },
    {
     "data": {
      "text/plain": [
       "5993157"
      ]
     },
     "execution_count": 32,
     "metadata": {},
     "output_type": "execute_result"
    }
   ],
   "source": [
    "%time df2.count()"
   ]
  },
  {
   "cell_type": "code",
   "execution_count": 31,
   "metadata": {},
   "outputs": [
    {
     "name": "stdout",
     "output_type": "stream",
     "text": [
      "+--------------------+------+----------------+--------+---+---+---+--------------------+-------+--------------------+-----------------+-------------------+--------------------+-------------+----+----+\n",
      "|                 _c0|   _c1|             _c2|     _c3|_c4|_c5|_c6|                 _c7|    _c8|                 _c9|             _c10|               _c11|                _c12|         _c13|_c14|_c15|\n",
      "+--------------------+------+----------------+--------+---+---+---+--------------------+-------+--------------------+-----------------+-------------------+--------------------+-------------+----+----+\n",
      "|{8A4719CC-30C8-4B...|170000|2015-07-24 00:00| NE5 5LX|  S|  N|  L|                  78|   null|        LANGDON ROAD|             null|NEWCASTLE UPON TYNE| NEWCASTLE UPON TYNE|TYNE AND WEAR|   A|   A|\n",
      "|{7B66C3FB-0307-43...|125000|2015-07-09 00:00|CV12 0JG|  S|  N|  F|                 128|   null|           DARK LANE|             null|           BEDWORTH|NUNEATON AND BEDW...| WARWICKSHIRE|   A|   A|\n",
      "|{B92ED3EE-EF3F-49...|260000|2015-08-20 00:00|BN14 0EW|  D|  N|  F|                   9|   null|     HORSESHOE CLOSE|           FINDON|           WORTHING|                ARUN|  WEST SUSSEX|   A|   A|\n",
      "|{65050B84-03E5-41...|815000|2015-04-08 00:00|KT10 0ND|  S|  N|  F|                  44|   null|          FOLEY ROAD|         CLAYGATE|              ESHER|           ELMBRIDGE|       SURREY|   A|   A|\n",
      "|{288DCE28-F1CA-E5...|200000|2015-12-01 00:00|DT11 7NX|  T|  N|  F|                  19|   null|          HIGHFIELDS|             null|    BLANDFORD FORUM|        NORTH DORSET|       DORSET|   A|   A|\n",
      "|{288DCE28-F1CB-E5...|230500|2015-11-20 00:00|BH15 3NN|  D|  N|  F|                  10|   null|          HYTHE ROAD|             null|              POOLE|               POOLE|        POOLE|   A|   A|\n",
      "|{288DCE28-F1CC-E5...|139950|2015-12-07 00:00| BH2 5ST|  F|  N|  L|                   2| FLAT 1|      BRADBURNE ROAD|             null|        BOURNEMOUTH|         BOURNEMOUTH|  BOURNEMOUTH|   A|   A|\n",
      "|{288DCE28-F1CD-E5...|145000|2015-12-04 00:00| BH4 8ED|  F|  N|  L| STEVENSON COURT, 11| FLAT 1|R L STEVENSON AVENUE|       WESTBOURNE|        BOURNEMOUTH|         BOURNEMOUTH|  BOURNEMOUTH|   A|   A|\n",
      "|{288DCE28-F1CE-E5...|284950|2015-10-30 00:00|BH12 3DR|  D|  N|  F|                  16|   null|          CREST ROAD|             null|              POOLE|               POOLE|        POOLE|   A|   A|\n",
      "|{288DCE28-F1CF-E5...|465000|2015-12-11 00:00|BH18 9HU|  D|  N|  F|                 107|   null|      CLARENDON ROAD|             null|         BROADSTONE|               POOLE|        POOLE|   A|   A|\n",
      "|{288DCE28-F1D0-E5...|340000|2015-11-30 00:00| SP8 5DH|  D|  N|  F|                  18|   null|           MILL RISE|          BOURTON|         GILLINGHAM|        NORTH DORSET|       DORSET|   A|   A|\n",
      "|{288DCE28-F1D1-E5...|336000|2015-12-18 00:00|BH13 7QF|  F|  N|  L|SANDHAVEN COURT, ...|FLAT 10|          BANKS ROAD|        SANDBANKS|              POOLE|               POOLE|        POOLE|   A|   A|\n",
      "|{288DCE28-F1D2-E5...|245000|2015-12-15 00:00| BH6 5LU|  S|  N|  F|                 17A|   null|      PADFIELD CLOSE|             null|        BOURNEMOUTH|         BOURNEMOUTH|  BOURNEMOUTH|   A|   A|\n",
      "|{288DCE28-F1D3-E5...|275000|2015-12-01 00:00|BH20 4QX|  T|  N|  F|                   5|   null|           MILL LANE|             null|            WAREHAM|             PURBECK|       DORSET|   A|   A|\n",
      "|{288DCE28-F1D4-E5...|255000|2015-12-10 00:00|DT11 9NQ|  D|  N|  F|   HOPE COTTAGE, 317|   null|    BOURNEMOUTH ROAD|CHARLTON MARSHALL|    BLANDFORD FORUM|        NORTH DORSET|       DORSET|   A|   A|\n",
      "|{288DCE28-F1D5-E5...|229950|2015-12-04 00:00| BH6 3PX|  F|  N|  L|                  56| FLAT 3|  STOURCLIFFE AVENUE|             null|        BOURNEMOUTH|         BOURNEMOUTH|  BOURNEMOUTH|   A|   A|\n",
      "|{288DCE28-F1D6-E5...|141000|2015-11-06 00:00| BH1 4AB|  F|  N|  L|                 443| FLAT 3|   CHRISTCHURCH ROAD|             null|        BOURNEMOUTH|         BOURNEMOUTH|  BOURNEMOUTH|   A|   A|\n",
      "|{288DCE28-F1D7-E5...|396000|2015-12-10 00:00|DT11 7NY|  S|  N|  F|                  30|   null|  ST LEONARDS AVENUE|             null|    BLANDFORD FORUM|        NORTH DORSET|       DORSET|   A|   A|\n",
      "|{288DCE28-F1D8-E5...|660000|2015-12-04 00:00| DT1 1QR|  S|  N|  F|                   1|   null|     WEYMOUTH AVENUE|             null|         DORCHESTER|         WEST DORSET|       DORSET|   A|   A|\n",
      "|{25EA59FA-619D-4D...|252000|2015-06-05 00:00| SP4 6FG|  D|  Y|  F|                  17|   null|          HERMAN WAY|        OLD SARUM|          SALISBURY|           WILTSHIRE|    WILTSHIRE|   A|   A|\n",
      "+--------------------+------+----------------+--------+---+---+---+--------------------+-------+--------------------+-----------------+-------------------+--------------------+-------------+----+----+\n",
      "only showing top 20 rows\n",
      "\n"
     ]
    }
   ],
   "source": [
    "df2.show()"
   ]
  },
  {
   "cell_type": "code",
   "execution_count": 33,
   "metadata": {},
   "outputs": [],
   "source": [
    "df2.createOrReplaceTempView(\"table1\")"
   ]
  },
  {
   "cell_type": "code",
   "execution_count": 34,
   "metadata": {},
   "outputs": [],
   "source": [
    "df3 = spark.sql(\"SELECT _c1 AS f1, _c3 as f2 from table1\")"
   ]
  },
  {
   "cell_type": "code",
   "execution_count": 35,
   "metadata": {},
   "outputs": [
    {
     "name": "stdout",
     "output_type": "stream",
     "text": [
      "+------+--------+\n",
      "|    f1|      f2|\n",
      "+------+--------+\n",
      "|170000| NE5 5LX|\n",
      "|125000|CV12 0JG|\n",
      "|260000|BN14 0EW|\n",
      "|815000|KT10 0ND|\n",
      "|200000|DT11 7NX|\n",
      "|230500|BH15 3NN|\n",
      "|139950| BH2 5ST|\n",
      "|145000| BH4 8ED|\n",
      "|284950|BH12 3DR|\n",
      "|465000|BH18 9HU|\n",
      "|340000| SP8 5DH|\n",
      "|336000|BH13 7QF|\n",
      "|245000| BH6 5LU|\n",
      "|275000|BH20 4QX|\n",
      "|255000|DT11 9NQ|\n",
      "|229950| BH6 3PX|\n",
      "|141000| BH1 4AB|\n",
      "|396000|DT11 7NY|\n",
      "|660000| DT1 1QR|\n",
      "|252000| SP4 6FG|\n",
      "+------+--------+\n",
      "only showing top 20 rows\n",
      "\n"
     ]
    }
   ],
   "source": [
    "df3.show()"
   ]
  },
  {
   "cell_type": "code",
   "execution_count": 41,
   "metadata": {},
   "outputs": [
    {
     "name": "stdout",
     "output_type": "stream",
     "text": [
      "+----------------+\n",
      "|        max(_c2)|\n",
      "+----------------+\n",
      "|2019-12-26 00:00|\n",
      "+----------------+\n",
      "\n"
     ]
    }
   ],
   "source": [
    "spark.sql(\"SELECT max(_c2) from table1 \").show()"
   ]
  },
  {
   "cell_type": "code",
   "execution_count": 40,
   "metadata": {},
   "outputs": [
    {
     "name": "stdout",
     "output_type": "stream",
     "text": [
      "+----------------+\n",
      "|        min(_c2)|\n",
      "+----------------+\n",
      "|2014-01-01 00:00|\n",
      "+----------------+\n",
      "\n"
     ]
    }
   ],
   "source": [
    "spark.sql(\"SELECT min(_c2) from table1 \").show()"
   ]
  },
  {
   "cell_type": "code",
   "execution_count": 39,
   "metadata": {},
   "outputs": [
    {
     "name": "stdout",
     "output_type": "stream",
     "text": [
      "+-------+--------------------+-----------------+----------------+--------+-------+-------+-------+--------------------+--------------------+------------+-----------+--------------+-------+--------------------+-------+-------+\n",
      "|summary|                 _c0|              _c1|             _c2|     _c3|    _c4|    _c5|    _c6|                 _c7|                 _c8|         _c9|       _c10|          _c11|   _c12|                _c13|   _c14|   _c15|\n",
      "+-------+--------------------+-----------------+----------------+--------+-------+-------+-------+--------------------+--------------------+------------+-----------+--------------+-------+--------------------+-------+-------+\n",
      "|  count|             5993157|          5993157|         5993157| 5970195|5993157|5993157|5993157|             5993157|              831218|     5890512|    2209511|       5993157|5992971|             5993157|5993157|5993157|\n",
      "|   mean|                null|322975.6216006022|            null|    null|   null|   null|   null|   44.79567561578928|  40.766884941929305|        null|       null|          null|   null|                null|   null|   null|\n",
      "| stddev|                null| 1528648.98209136|            null|    null|   null|   null|   null|   76.65578033210178|  158.69578632054754|        null|       null|          null|   null|                null|   null|   null|\n",
      "|    min|{0000108A-3E24-4D...|                1|2014-01-01 00:00| AL1 1AJ|      D|      N|      F|'LEONARD' HOGARTH...|'THE CAR PARK'-BA...| 12TH AVENUE|AB KETTLEBY|ABBOTS LANGLEY|   ADUR|BATH AND NORTH EA...|      A|      A|\n",
      "|    max|{FFFFF01B-F2D5-46...|        594300000|2019-12-26 00:00|YO91 1RT|      T|      Y|      L|              ZYLPHA|    ZURICH HOUSE 226|ZYBURN COURT|      ZOUCH| YSTRAD MEURIG|   YORK|                YORK|      B|      A|\n",
      "+-------+--------------------+-----------------+----------------+--------+-------+-------+-------+--------------------+--------------------+------------+-----------+--------------+-------+--------------------+-------+-------+\n",
      "\n"
     ]
    }
   ],
   "source": [
    "df2.describe().show()"
   ]
  },
  {
   "cell_type": "code",
   "execution_count": 43,
   "metadata": {},
   "outputs": [
    {
     "name": "stdout",
     "output_type": "stream",
     "text": [
      "root\n",
      " |-- _c0: string (nullable = true)\n",
      " |-- _c1: integer (nullable = true)\n",
      " |-- _c2: string (nullable = true)\n",
      " |-- _c3: string (nullable = true)\n",
      " |-- _c4: string (nullable = true)\n",
      " |-- _c5: string (nullable = true)\n",
      " |-- _c6: string (nullable = true)\n",
      " |-- _c7: string (nullable = true)\n",
      " |-- _c8: string (nullable = true)\n",
      " |-- _c9: string (nullable = true)\n",
      " |-- _c10: string (nullable = true)\n",
      " |-- _c11: string (nullable = true)\n",
      " |-- _c12: string (nullable = true)\n",
      " |-- _c13: string (nullable = true)\n",
      " |-- _c14: string (nullable = true)\n",
      " |-- _c15: string (nullable = true)\n",
      "\n"
     ]
    }
   ],
   "source": [
    "df2.printSchema()"
   ]
  },
  {
   "cell_type": "code",
   "execution_count": 62,
   "metadata": {},
   "outputs": [],
   "source": [
    "from pyspark.sql.functions import col, unix_timestamp, to_timestamp\n",
    "df4 = df2.withColumn('transaction_timestamp', to_timestamp(unix_timestamp(col('_c2'), 'yyyy-MM-dd HH:mm').cast(\"timestamp\")))"
   ]
  },
  {
   "cell_type": "code",
   "execution_count": 63,
   "metadata": {},
   "outputs": [
    {
     "name": "stdout",
     "output_type": "stream",
     "text": [
      "+--------------------+------+----------------+--------+---+---+---+--------------------+-------+--------------------+-----------------+-------------------+--------------------+-------------+----+----+---------------------+\n",
      "|                 _c0|   _c1|             _c2|     _c3|_c4|_c5|_c6|                 _c7|    _c8|                 _c9|             _c10|               _c11|                _c12|         _c13|_c14|_c15|transaction_timestamp|\n",
      "+--------------------+------+----------------+--------+---+---+---+--------------------+-------+--------------------+-----------------+-------------------+--------------------+-------------+----+----+---------------------+\n",
      "|{8A4719CC-30C8-4B...|170000|2015-07-24 00:00| NE5 5LX|  S|  N|  L|                  78|   null|        LANGDON ROAD|             null|NEWCASTLE UPON TYNE| NEWCASTLE UPON TYNE|TYNE AND WEAR|   A|   A|  2015-07-24 00:00:00|\n",
      "|{7B66C3FB-0307-43...|125000|2015-07-09 00:00|CV12 0JG|  S|  N|  F|                 128|   null|           DARK LANE|             null|           BEDWORTH|NUNEATON AND BEDW...| WARWICKSHIRE|   A|   A|  2015-07-09 00:00:00|\n",
      "|{B92ED3EE-EF3F-49...|260000|2015-08-20 00:00|BN14 0EW|  D|  N|  F|                   9|   null|     HORSESHOE CLOSE|           FINDON|           WORTHING|                ARUN|  WEST SUSSEX|   A|   A|  2015-08-20 00:00:00|\n",
      "|{65050B84-03E5-41...|815000|2015-04-08 00:00|KT10 0ND|  S|  N|  F|                  44|   null|          FOLEY ROAD|         CLAYGATE|              ESHER|           ELMBRIDGE|       SURREY|   A|   A|  2015-04-08 00:00:00|\n",
      "|{288DCE28-F1CA-E5...|200000|2015-12-01 00:00|DT11 7NX|  T|  N|  F|                  19|   null|          HIGHFIELDS|             null|    BLANDFORD FORUM|        NORTH DORSET|       DORSET|   A|   A|  2015-12-01 00:00:00|\n",
      "|{288DCE28-F1CB-E5...|230500|2015-11-20 00:00|BH15 3NN|  D|  N|  F|                  10|   null|          HYTHE ROAD|             null|              POOLE|               POOLE|        POOLE|   A|   A|  2015-11-20 00:00:00|\n",
      "|{288DCE28-F1CC-E5...|139950|2015-12-07 00:00| BH2 5ST|  F|  N|  L|                   2| FLAT 1|      BRADBURNE ROAD|             null|        BOURNEMOUTH|         BOURNEMOUTH|  BOURNEMOUTH|   A|   A|  2015-12-07 00:00:00|\n",
      "|{288DCE28-F1CD-E5...|145000|2015-12-04 00:00| BH4 8ED|  F|  N|  L| STEVENSON COURT, 11| FLAT 1|R L STEVENSON AVENUE|       WESTBOURNE|        BOURNEMOUTH|         BOURNEMOUTH|  BOURNEMOUTH|   A|   A|  2015-12-04 00:00:00|\n",
      "|{288DCE28-F1CE-E5...|284950|2015-10-30 00:00|BH12 3DR|  D|  N|  F|                  16|   null|          CREST ROAD|             null|              POOLE|               POOLE|        POOLE|   A|   A|  2015-10-30 00:00:00|\n",
      "|{288DCE28-F1CF-E5...|465000|2015-12-11 00:00|BH18 9HU|  D|  N|  F|                 107|   null|      CLARENDON ROAD|             null|         BROADSTONE|               POOLE|        POOLE|   A|   A|  2015-12-11 00:00:00|\n",
      "|{288DCE28-F1D0-E5...|340000|2015-11-30 00:00| SP8 5DH|  D|  N|  F|                  18|   null|           MILL RISE|          BOURTON|         GILLINGHAM|        NORTH DORSET|       DORSET|   A|   A|  2015-11-30 00:00:00|\n",
      "|{288DCE28-F1D1-E5...|336000|2015-12-18 00:00|BH13 7QF|  F|  N|  L|SANDHAVEN COURT, ...|FLAT 10|          BANKS ROAD|        SANDBANKS|              POOLE|               POOLE|        POOLE|   A|   A|  2015-12-18 00:00:00|\n",
      "|{288DCE28-F1D2-E5...|245000|2015-12-15 00:00| BH6 5LU|  S|  N|  F|                 17A|   null|      PADFIELD CLOSE|             null|        BOURNEMOUTH|         BOURNEMOUTH|  BOURNEMOUTH|   A|   A|  2015-12-15 00:00:00|\n",
      "|{288DCE28-F1D3-E5...|275000|2015-12-01 00:00|BH20 4QX|  T|  N|  F|                   5|   null|           MILL LANE|             null|            WAREHAM|             PURBECK|       DORSET|   A|   A|  2015-12-01 00:00:00|\n",
      "|{288DCE28-F1D4-E5...|255000|2015-12-10 00:00|DT11 9NQ|  D|  N|  F|   HOPE COTTAGE, 317|   null|    BOURNEMOUTH ROAD|CHARLTON MARSHALL|    BLANDFORD FORUM|        NORTH DORSET|       DORSET|   A|   A|  2015-12-10 00:00:00|\n",
      "|{288DCE28-F1D5-E5...|229950|2015-12-04 00:00| BH6 3PX|  F|  N|  L|                  56| FLAT 3|  STOURCLIFFE AVENUE|             null|        BOURNEMOUTH|         BOURNEMOUTH|  BOURNEMOUTH|   A|   A|  2015-12-04 00:00:00|\n",
      "|{288DCE28-F1D6-E5...|141000|2015-11-06 00:00| BH1 4AB|  F|  N|  L|                 443| FLAT 3|   CHRISTCHURCH ROAD|             null|        BOURNEMOUTH|         BOURNEMOUTH|  BOURNEMOUTH|   A|   A|  2015-11-06 00:00:00|\n",
      "|{288DCE28-F1D7-E5...|396000|2015-12-10 00:00|DT11 7NY|  S|  N|  F|                  30|   null|  ST LEONARDS AVENUE|             null|    BLANDFORD FORUM|        NORTH DORSET|       DORSET|   A|   A|  2015-12-10 00:00:00|\n",
      "|{288DCE28-F1D8-E5...|660000|2015-12-04 00:00| DT1 1QR|  S|  N|  F|                   1|   null|     WEYMOUTH AVENUE|             null|         DORCHESTER|         WEST DORSET|       DORSET|   A|   A|  2015-12-04 00:00:00|\n",
      "|{25EA59FA-619D-4D...|252000|2015-06-05 00:00| SP4 6FG|  D|  Y|  F|                  17|   null|          HERMAN WAY|        OLD SARUM|          SALISBURY|           WILTSHIRE|    WILTSHIRE|   A|   A|  2015-06-05 00:00:00|\n",
      "+--------------------+------+----------------+--------+---+---+---+--------------------+-------+--------------------+-----------------+-------------------+--------------------+-------------+----+----+---------------------+\n",
      "only showing top 20 rows\n",
      "\n"
     ]
    }
   ],
   "source": [
    "df4.show()"
   ]
  },
  {
   "cell_type": "code",
   "execution_count": 64,
   "metadata": {},
   "outputs": [
    {
     "name": "stdout",
     "output_type": "stream",
     "text": [
      "root\n",
      " |-- _c0: string (nullable = true)\n",
      " |-- _c1: integer (nullable = true)\n",
      " |-- _c2: string (nullable = true)\n",
      " |-- _c3: string (nullable = true)\n",
      " |-- _c4: string (nullable = true)\n",
      " |-- _c5: string (nullable = true)\n",
      " |-- _c6: string (nullable = true)\n",
      " |-- _c7: string (nullable = true)\n",
      " |-- _c8: string (nullable = true)\n",
      " |-- _c9: string (nullable = true)\n",
      " |-- _c10: string (nullable = true)\n",
      " |-- _c11: string (nullable = true)\n",
      " |-- _c12: string (nullable = true)\n",
      " |-- _c13: string (nullable = true)\n",
      " |-- _c14: string (nullable = true)\n",
      " |-- _c15: string (nullable = true)\n",
      " |-- transaction_timestamp: timestamp (nullable = true)\n",
      "\n"
     ]
    }
   ],
   "source": [
    "df4.printSchema()"
   ]
  },
  {
   "cell_type": "code",
   "execution_count": 65,
   "metadata": {},
   "outputs": [
    {
     "ename": "AttributeError",
     "evalue": "'DataFrame' object has no attribute 'plot'",
     "output_type": "error",
     "traceback": [
      "\u001b[0;31m---------------------------------------------------------------------------\u001b[0m",
      "\u001b[0;31mAttributeError\u001b[0m                            Traceback (most recent call last)",
      "\u001b[0;32m<ipython-input-65-318d12b1eabf>\u001b[0m in \u001b[0;36m<module>\u001b[0;34m\u001b[0m\n\u001b[0;32m----> 1\u001b[0;31m \u001b[0mdf2\u001b[0m\u001b[0;34m.\u001b[0m\u001b[0mplot\u001b[0m\u001b[0;34m(\u001b[0m\u001b[0;34m)\u001b[0m\u001b[0;34m\u001b[0m\u001b[0;34m\u001b[0m\u001b[0m\n\u001b[0m",
      "\u001b[0;32m~/.local/share/virtualenvs/jupyter_deltalake-l-9w-auE/lib/python3.7/site-packages/pyspark/sql/dataframe.py\u001b[0m in \u001b[0;36m__getattr__\u001b[0;34m(self, name)\u001b[0m\n\u001b[1;32m   1302\u001b[0m         \u001b[0;32mif\u001b[0m \u001b[0mname\u001b[0m \u001b[0;32mnot\u001b[0m \u001b[0;32min\u001b[0m \u001b[0mself\u001b[0m\u001b[0;34m.\u001b[0m\u001b[0mcolumns\u001b[0m\u001b[0;34m:\u001b[0m\u001b[0;34m\u001b[0m\u001b[0;34m\u001b[0m\u001b[0m\n\u001b[1;32m   1303\u001b[0m             raise AttributeError(\n\u001b[0;32m-> 1304\u001b[0;31m                 \"'%s' object has no attribute '%s'\" % (self.__class__.__name__, name))\n\u001b[0m\u001b[1;32m   1305\u001b[0m         \u001b[0mjc\u001b[0m \u001b[0;34m=\u001b[0m \u001b[0mself\u001b[0m\u001b[0;34m.\u001b[0m\u001b[0m_jdf\u001b[0m\u001b[0;34m.\u001b[0m\u001b[0mapply\u001b[0m\u001b[0;34m(\u001b[0m\u001b[0mname\u001b[0m\u001b[0;34m)\u001b[0m\u001b[0;34m\u001b[0m\u001b[0;34m\u001b[0m\u001b[0m\n\u001b[1;32m   1306\u001b[0m         \u001b[0;32mreturn\u001b[0m \u001b[0mColumn\u001b[0m\u001b[0;34m(\u001b[0m\u001b[0mjc\u001b[0m\u001b[0;34m)\u001b[0m\u001b[0;34m\u001b[0m\u001b[0;34m\u001b[0m\u001b[0m\n",
      "\u001b[0;31mAttributeError\u001b[0m: 'DataFrame' object has no attribute 'plot'"
     ]
    }
   ],
   "source": [
    "df2.plot()"
   ]
  },
  {
   "cell_type": "code",
   "execution_count": null,
   "metadata": {},
   "outputs": [],
   "source": []
  }
 ],
 "metadata": {
  "kernelspec": {
   "display_name": "Python 3",
   "language": "python",
   "name": "python3"
  },
  "language_info": {
   "codemirror_mode": {
    "name": "ipython",
    "version": 3
   },
   "file_extension": ".py",
   "mimetype": "text/x-python",
   "name": "python",
   "nbconvert_exporter": "python",
   "pygments_lexer": "ipython3",
   "version": "3.7.6"
  }
 },
 "nbformat": 4,
 "nbformat_minor": 4
}
